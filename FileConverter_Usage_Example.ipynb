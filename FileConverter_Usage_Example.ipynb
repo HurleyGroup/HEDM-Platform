{
 "cells": [
  {
   "cell_type": "code",
   "execution_count": 6,
   "metadata": {},
   "outputs": [
    {
     "name": "stdout",
     "output_type": "stream",
     "text": [
      "/Users/yetian/Dropbox/My Mac (Ye’s MacBook Pro)/Desktop/Ryan_test_data/HEDM\n"
     ]
    }
   ],
   "source": [
    "cd /Users/yetian/Dropbox/My Mac (Ye’s MacBook Pro)/Desktop/Ryan_test_data/HEDM"
   ]
  },
  {
   "cell_type": "code",
   "execution_count": 3,
   "metadata": {},
   "outputs": [
    {
     "name": "stdout",
     "output_type": "stream",
     "text": [
      "Currently executing for layer: 0, det: 0, start_num: 0\n",
      "Converting to ilastik format...\n",
      "Converting from .tif format to .h5...\n",
      "Number of images in the dataset: 180\n",
      "Applying background subtraction...\n"
     ]
    },
    {
     "ename": "KeyboardInterrupt",
     "evalue": "",
     "output_type": "error",
     "traceback": [
      "\u001b[0;31m---------------------------------------------------------------------------\u001b[0m",
      "\u001b[0;31mKeyboardInterrupt\u001b[0m                         Traceback (most recent call last)",
      "\u001b[1;32m/Users/yetian/Dropbox/My Mac (Ye’s MacBook Pro)/Desktop/Ryan_test_data/HEDM/FileConverter_Usage_Example.ipynb Cell 2\u001b[0m in \u001b[0;36m<cell line: 17>\u001b[0;34m()\u001b[0m\n\u001b[1;32m     <a href='vscode-notebook-cell:/Users/yetian/Dropbox/My%20Mac%20%28Ye%E2%80%99s%20MacBook%20Pro%29/Desktop/Ryan_test_data/HEDM/FileConverter_Usage_Example.ipynb#W1sZmlsZQ%3D%3D?line=25'>26</a>\u001b[0m \u001b[39mprint\u001b[39m(\u001b[39m\"\u001b[39m\u001b[39mCurrently executing for layer: \u001b[39m\u001b[39m{}\u001b[39;00m\u001b[39m, det: \u001b[39m\u001b[39m{}\u001b[39;00m\u001b[39m, start_num: \u001b[39m\u001b[39m{}\u001b[39;00m\u001b[39m\"\u001b[39m\u001b[39m.\u001b[39mformat(layer, det, start_num))  \u001b[39m# print current layer, det and start_num\u001b[39;00m\n\u001b[1;32m     <a href='vscode-notebook-cell:/Users/yetian/Dropbox/My%20Mac%20%28Ye%E2%80%99s%20MacBook%20Pro%29/Desktop/Ryan_test_data/HEDM/FileConverter_Usage_Example.ipynb#W1sZmlsZQ%3D%3D?line=27'>28</a>\u001b[0m params \u001b[39m=\u001b[39m {\n\u001b[1;32m     <a href='vscode-notebook-cell:/Users/yetian/Dropbox/My%20Mac%20%28Ye%E2%80%99s%20MacBook%20Pro%29/Desktop/Ryan_test_data/HEDM/FileConverter_Usage_Example.ipynb#W1sZmlsZQ%3D%3D?line=28'>29</a>\u001b[0m     \u001b[39m'\u001b[39m\u001b[39minput_file\u001b[39m\u001b[39m'\u001b[39m: input_file,\n\u001b[1;32m     <a href='vscode-notebook-cell:/Users/yetian/Dropbox/My%20Mac%20%28Ye%E2%80%99s%20MacBook%20Pro%29/Desktop/Ryan_test_data/HEDM/FileConverter_Usage_Example.ipynb#W1sZmlsZQ%3D%3D?line=29'>30</a>\u001b[0m     \u001b[39m'\u001b[39m\u001b[39moutput_file\u001b[39m\u001b[39m'\u001b[39m: output_file,\n\u001b[0;32m   (...)\u001b[0m\n\u001b[1;32m     <a href='vscode-notebook-cell:/Users/yetian/Dropbox/My%20Mac%20%28Ye%E2%80%99s%20MacBook%20Pro%29/Desktop/Ryan_test_data/HEDM/FileConverter_Usage_Example.ipynb#W1sZmlsZQ%3D%3D?line=41'>42</a>\u001b[0m     \u001b[39m'\u001b[39m\u001b[39mslice_images\u001b[39m\u001b[39m'\u001b[39m: slice_images\n\u001b[1;32m     <a href='vscode-notebook-cell:/Users/yetian/Dropbox/My%20Mac%20%28Ye%E2%80%99s%20MacBook%20Pro%29/Desktop/Ryan_test_data/HEDM/FileConverter_Usage_Example.ipynb#W1sZmlsZQ%3D%3D?line=42'>43</a>\u001b[0m }\n\u001b[0;32m---> <a href='vscode-notebook-cell:/Users/yetian/Dropbox/My%20Mac%20%28Ye%E2%80%99s%20MacBook%20Pro%29/Desktop/Ryan_test_data/HEDM/FileConverter_Usage_Example.ipynb#W1sZmlsZQ%3D%3D?line=44'>45</a>\u001b[0m run_conversion(ToIlastikConverter, \u001b[39m*\u001b[39;49m\u001b[39m*\u001b[39;49mparams)\n\u001b[1;32m     <a href='vscode-notebook-cell:/Users/yetian/Dropbox/My%20Mac%20%28Ye%E2%80%99s%20MacBook%20Pro%29/Desktop/Ryan_test_data/HEDM/FileConverter_Usage_Example.ipynb#W1sZmlsZQ%3D%3D?line=45'>46</a>\u001b[0m run_conversion(HDF5Slicer, \u001b[39m*\u001b[39m\u001b[39m*\u001b[39mparams)\n",
      "File \u001b[0;32m~/Dropbox/My Mac (Ye’s MacBook Pro)/Desktop/Ryan_test_data/HEDM/HEDMFileConverter.py:261\u001b[0m, in \u001b[0;36mrun_conversion\u001b[0;34m(converter_class, **params)\u001b[0m\n\u001b[1;32m    259\u001b[0m \u001b[39mdef\u001b[39;00m \u001b[39mrun_conversion\u001b[39m(converter_class, \u001b[39m*\u001b[39m\u001b[39m*\u001b[39mparams):\n\u001b[1;32m    260\u001b[0m     converter \u001b[39m=\u001b[39m converter_class(\u001b[39m*\u001b[39m\u001b[39m*\u001b[39mparams)\n\u001b[0;32m--> 261\u001b[0m     converter\u001b[39m.\u001b[39;49mconvert()\n",
      "File \u001b[0;32m~/Dropbox/My Mac (Ye’s MacBook Pro)/Desktop/Ryan_test_data/HEDM/HEDMFileConverter.py:214\u001b[0m, in \u001b[0;36mToIlastikConverter.convert\u001b[0;34m(self)\u001b[0m\n\u001b[1;32m    212\u001b[0m \u001b[39mif\u001b[39;00m \u001b[39mself\u001b[39m\u001b[39m.\u001b[39mbgsub:\n\u001b[1;32m    213\u001b[0m     \u001b[39mprint\u001b[39m(\u001b[39m\"\u001b[39m\u001b[39mApplying background subtraction...\u001b[39m\u001b[39m\"\u001b[39m)\n\u001b[0;32m--> 214\u001b[0m     \u001b[39mself\u001b[39;49m\u001b[39m.\u001b[39;49mbgsub4hdf5()\n",
      "File \u001b[0;32m~/Dropbox/My Mac (Ye’s MacBook Pro)/Desktop/Ryan_test_data/HEDM/HEDMFileConverter.py:185\u001b[0m, in \u001b[0;36mFileConverter.bgsub4hdf5\u001b[0;34m(self)\u001b[0m\n\u001b[1;32m    183\u001b[0m pct \u001b[39m=\u001b[39m \u001b[39mself\u001b[39m\u001b[39m.\u001b[39mbg_pct\n\u001b[1;32m    184\u001b[0m nf_to_use \u001b[39m=\u001b[39m \u001b[39mself\u001b[39m\u001b[39m.\u001b[39mbg_nf\n\u001b[0;32m--> 185\u001b[0m dark \u001b[39m=\u001b[39m imageseries\u001b[39m.\u001b[39;49mstats\u001b[39m.\u001b[39;49mpercentile(ims, pct, nf_to_use)\n\u001b[1;32m    186\u001b[0m \u001b[39m# np.save(DarkFile, dark)\u001b[39;00m\n\u001b[1;32m    187\u001b[0m \n\u001b[1;32m    188\u001b[0m \u001b[39m# Now, apply the processing options\u001b[39;00m\n\u001b[1;32m    189\u001b[0m ProcessedIS \u001b[39m=\u001b[39m imageseries\u001b[39m.\u001b[39mprocess\u001b[39m.\u001b[39mProcessedImageSeries\n",
      "File \u001b[0;32m~/opt/anaconda3/envs/hexrd_3_10/lib/python3.10/site-packages/hexrd/imageseries/stats.py:132\u001b[0m, in \u001b[0;36mpercentile\u001b[0;34m(ims, pctl, nframes)\u001b[0m\n\u001b[1;32m    125\u001b[0m \u001b[39m\"\"\"percentile function over frames\u001b[39;00m\n\u001b[1;32m    126\u001b[0m \n\u001b[1;32m    127\u001b[0m \u001b[39mims - the imageseries\u001b[39;00m\n\u001b[1;32m    128\u001b[0m \u001b[39mpctl - the percentile\u001b[39;00m\n\u001b[1;32m    129\u001b[0m \u001b[39mnframes - the number of frames to use (default/0 = all)\u001b[39;00m\n\u001b[1;32m    130\u001b[0m \u001b[39m\"\"\"\u001b[39;00m\n\u001b[1;32m    131\u001b[0m nf \u001b[39m=\u001b[39m _nframes(ims, nframes)\n\u001b[0;32m--> 132\u001b[0m \u001b[39mreturn\u001b[39;00m np\u001b[39m.\u001b[39mpercentile(_toarray(ims, nf), pctl, axis\u001b[39m=\u001b[39m\u001b[39m0\u001b[39m)\u001b[39m.\u001b[39mastype(np\u001b[39m.\u001b[39mfloat32)\n",
      "File \u001b[0;32m~/opt/anaconda3/envs/hexrd_3_10/lib/python3.10/site-packages/hexrd/imageseries/stats.py:223\u001b[0m, in \u001b[0;36m_toarray\u001b[0;34m(ims, nframes, rows, buffer)\u001b[0m\n\u001b[1;32m    221\u001b[0m     a[:nbf] \u001b[39m=\u001b[39m buffer[:nbf, r0:r1, :]\n\u001b[1;32m    222\u001b[0m \u001b[39mfor\u001b[39;00m i \u001b[39min\u001b[39;00m \u001b[39mrange\u001b[39m(nbf, nframes):\n\u001b[0;32m--> 223\u001b[0m     a[i] \u001b[39m=\u001b[39m ims[i][r0:r1]\n\u001b[1;32m    225\u001b[0m \u001b[39mreturn\u001b[39;00m a\n",
      "File \u001b[0;32m~/opt/anaconda3/envs/hexrd_3_10/lib/python3.10/site-packages/hexrd/imageseries/baseclass.py:23\u001b[0m, in \u001b[0;36mImageSeries.__getitem__\u001b[0;34m(self, key)\u001b[0m\n\u001b[1;32m     22\u001b[0m \u001b[39mdef\u001b[39;00m \u001b[39m__getitem__\u001b[39m(\u001b[39mself\u001b[39m, key):\n\u001b[0;32m---> 23\u001b[0m     \u001b[39mreturn\u001b[39;00m \u001b[39mself\u001b[39;49m\u001b[39m.\u001b[39;49m_adapter[key]\n",
      "File \u001b[0;32m~/opt/anaconda3/envs/hexrd_3_10/lib/python3.10/site-packages/hexrd/imageseries/load/hdf5.py:57\u001b[0m, in \u001b[0;36mHDF5ImageSeriesAdapter.__getitem__\u001b[0;34m(self, key)\u001b[0m\n\u001b[1;32m     56\u001b[0m \u001b[39mdef\u001b[39;00m \u001b[39m__getitem__\u001b[39m(\u001b[39mself\u001b[39m, key):\n\u001b[0;32m---> 57\u001b[0m     \u001b[39mreturn\u001b[39;00m \u001b[39mself\u001b[39;49m\u001b[39m.\u001b[39;49m__image_dataset[key]\n",
      "File \u001b[0;32mh5py/_objects.pyx:54\u001b[0m, in \u001b[0;36mh5py._objects.with_phil.wrapper\u001b[0;34m()\u001b[0m\n",
      "File \u001b[0;32mh5py/_objects.pyx:55\u001b[0m, in \u001b[0;36mh5py._objects.with_phil.wrapper\u001b[0;34m()\u001b[0m\n",
      "File \u001b[0;32m~/opt/anaconda3/envs/hexrd_3_10/lib/python3.10/site-packages/h5py/_hl/dataset.py:741\u001b[0m, in \u001b[0;36mDataset.__getitem__\u001b[0;34m(self, args, new_dtype)\u001b[0m\n\u001b[1;32m    739\u001b[0m \u001b[39mif\u001b[39;00m \u001b[39mself\u001b[39m\u001b[39m.\u001b[39m_fast_read_ok \u001b[39mand\u001b[39;00m (new_dtype \u001b[39mis\u001b[39;00m \u001b[39mNone\u001b[39;00m):\n\u001b[1;32m    740\u001b[0m     \u001b[39mtry\u001b[39;00m:\n\u001b[0;32m--> 741\u001b[0m         \u001b[39mreturn\u001b[39;00m \u001b[39mself\u001b[39;49m\u001b[39m.\u001b[39;49m_fast_reader\u001b[39m.\u001b[39;49mread(args)\n\u001b[1;32m    742\u001b[0m     \u001b[39mexcept\u001b[39;00m \u001b[39mTypeError\u001b[39;00m:\n\u001b[1;32m    743\u001b[0m         \u001b[39mpass\u001b[39;00m  \u001b[39m# Fall back to Python read pathway below\u001b[39;00m\n",
      "\u001b[0;31mKeyboardInterrupt\u001b[0m: "
     ]
    }
   ],
   "source": [
    "from HEDMFileConverter import ToIlastikConverter, HDF5Slicer, run_conversion\n",
    "\n",
    "base_dir = '/Users/yetian/Desktop/Ryan_test_data/APS_2023Feb/nf_test/'\n",
    "input_file = base_dir + 'nugget1_nf_int_before/nugget1_nf_int4_000000.tif'\n",
    "slice_images = 1\n",
    "empty_images = 0\n",
    "num_images = 180 # number of frames in total in hdf5 file\n",
    "omega = 1 # omega rotation angle in degree\n",
    "bg_pct = 50 # background to subtract in percentile\n",
    "bg_nf = 180 # number of frames to use to generate dark field image   \n",
    "bgsub = True\n",
    "start_constant = 0 # replace with the constant you mentioned\n",
    "\n",
    "layers = 1 # replace with the actual value\n",
    "dets = 2 # replace with the actual value\n",
    "\n",
    "for layer in range(layers):\n",
    "    for det in range(dets):\n",
    "        output_file = base_dir + 'nugget1_nf_det{}_layer{}.h5'.format(det, layer)\n",
    "        slice_output_file = base_dir + 'nugget1_nf_det{}_layer{}_50bg180nf_slice.h5'.format(det, layer)\n",
    "        bgsub_h5_file = base_dir + 'nugget1_nf_det{}_layer{}_50bg.h5'.format(det, layer)\n",
    "        \n",
    "        start_num = start_constant + layer*num_images*omega*dets + det*num_images*omega\n",
    "        end_num = start_num + num_images*omega -1\n",
    "\n",
    "        print(\"Currently executing for layer: {}, det: {}, start_num: {}\".format(layer, det, start_num))  # print current layer, det and start_num\n",
    "        \n",
    "        params = {\n",
    "            'input_file': input_file,\n",
    "            'output_file': output_file,\n",
    "            'empty_images': empty_images, \n",
    "            'start_num': start_num,\n",
    "            'end_num': end_num,\n",
    "            'bgsub_h5_file': bgsub_h5_file,\n",
    "            'num_images': num_images,\n",
    "            'omega': omega,\n",
    "            'bg_pct': bg_pct,\n",
    "            'bg_nf': bg_nf,\n",
    "            'bgsub': bgsub,\n",
    "            'slice_input_file': bgsub_h5_file if bgsub else output_file,\n",
    "            'slice_output_file': slice_output_file,\n",
    "            'slice_images': slice_images\n",
    "        }\n",
    "\n",
    "        run_conversion(ToIlastikConverter, **params)\n",
    "        run_conversion(HDF5Slicer, **params) \n"
   ]
  },
  {
   "cell_type": "code",
   "execution_count": 8,
   "metadata": {},
   "outputs": [
    {
     "ename": "TypeError",
     "evalue": "expected str, bytes or os.PathLike object, not NoneType",
     "output_type": "error",
     "traceback": [
      "\u001b[0;31m---------------------------------------------------------------------------\u001b[0m",
      "\u001b[0;31mTypeError\u001b[0m                                 Traceback (most recent call last)",
      "\u001b[1;32m/Users/yetian/Dropbox/My Mac (Ye’s MacBook Pro)/Desktop/Ryan_test_data/HEDM/FileConverter_Usage_Example.ipynb Cell 3\u001b[0m in \u001b[0;36m<cell line: 15>\u001b[0;34m()\u001b[0m\n\u001b[1;32m      <a href='vscode-notebook-cell:/Users/yetian/Dropbox/My%20Mac%20%28Ye%E2%80%99s%20MacBook%20Pro%29/Desktop/Ryan_test_data/HEDM/FileConverter_Usage_Example.ipynb#W2sZmlsZQ%3D%3D?line=3'>4</a>\u001b[0m tiff_params \u001b[39m=\u001b[39m {\n\u001b[1;32m      <a href='vscode-notebook-cell:/Users/yetian/Dropbox/My%20Mac%20%28Ye%E2%80%99s%20MacBook%20Pro%29/Desktop/Ryan_test_data/HEDM/FileConverter_Usage_Example.ipynb#W2sZmlsZQ%3D%3D?line=4'>5</a>\u001b[0m     \u001b[39m'\u001b[39m\u001b[39moutput_tiff_folder\u001b[39m\u001b[39m'\u001b[39m: \u001b[39m'\u001b[39m\u001b[39m/Users/yetian/Desktop/Ryan_test_data/APS_2023Feb/nf_test/nugget1_nf_test_tif\u001b[39m\u001b[39m'\u001b[39m,\n\u001b[1;32m      <a href='vscode-notebook-cell:/Users/yetian/Dropbox/My%20Mac%20%28Ye%E2%80%99s%20MacBook%20Pro%29/Desktop/Ryan_test_data/HEDM/FileConverter_Usage_Example.ipynb#W2sZmlsZQ%3D%3D?line=5'>6</a>\u001b[0m     \u001b[39m'\u001b[39m\u001b[39minput_proc_file\u001b[39m\u001b[39m'\u001b[39m: \u001b[39m'\u001b[39m\u001b[39m/Users/yetian/Desktop/Ryan_test_data/APS_2023Feb/nf_test/nugget1_nf_det1_layer0_50bg180nf_slice.h5\u001b[39m\u001b[39m'\u001b[39m,\n\u001b[0;32m   (...)\u001b[0m\n\u001b[1;32m     <a href='vscode-notebook-cell:/Users/yetian/Dropbox/My%20Mac%20%28Ye%E2%80%99s%20MacBook%20Pro%29/Desktop/Ryan_test_data/HEDM/FileConverter_Usage_Example.ipynb#W2sZmlsZQ%3D%3D?line=10'>11</a>\u001b[0m     \u001b[39m'\u001b[39m\u001b[39mend_num\u001b[39m\u001b[39m'\u001b[39m: \u001b[39m179\u001b[39m,\n\u001b[1;32m     <a href='vscode-notebook-cell:/Users/yetian/Dropbox/My%20Mac%20%28Ye%E2%80%99s%20MacBook%20Pro%29/Desktop/Ryan_test_data/HEDM/FileConverter_Usage_Example.ipynb#W2sZmlsZQ%3D%3D?line=11'>12</a>\u001b[0m }\n\u001b[1;32m     <a href='vscode-notebook-cell:/Users/yetian/Dropbox/My%20Mac%20%28Ye%E2%80%99s%20MacBook%20Pro%29/Desktop/Ryan_test_data/HEDM/FileConverter_Usage_Example.ipynb#W2sZmlsZQ%3D%3D?line=13'>14</a>\u001b[0m os\u001b[39m.\u001b[39mmakedirs(tiff_params[\u001b[39m'\u001b[39m\u001b[39moutput_tiff_folder\u001b[39m\u001b[39m'\u001b[39m], exist_ok\u001b[39m=\u001b[39m\u001b[39mTrue\u001b[39;00m)\n\u001b[0;32m---> <a href='vscode-notebook-cell:/Users/yetian/Dropbox/My%20Mac%20%28Ye%E2%80%99s%20MacBook%20Pro%29/Desktop/Ryan_test_data/HEDM/FileConverter_Usage_Example.ipynb#W2sZmlsZQ%3D%3D?line=14'>15</a>\u001b[0m run_conversion(HDF5ToTiffConverter, \u001b[39m*\u001b[39;49m\u001b[39m*\u001b[39;49mtiff_params)\n",
      "File \u001b[0;32m~/Dropbox/My Mac (Ye’s MacBook Pro)/Desktop/Ryan_test_data/HEDM/HEDMFileConverter.py:261\u001b[0m, in \u001b[0;36mrun_conversion\u001b[0;34m(converter_class, **params)\u001b[0m\n\u001b[1;32m    260\u001b[0m \u001b[39mdef\u001b[39;00m \u001b[39mrun_conversion\u001b[39m(converter_class, \u001b[39m*\u001b[39m\u001b[39m*\u001b[39mparams):\n\u001b[0;32m--> 261\u001b[0m     converter \u001b[39m=\u001b[39m converter_class(\u001b[39m*\u001b[39;49m\u001b[39m*\u001b[39;49mparams)\n\u001b[1;32m    262\u001b[0m     converter\u001b[39m.\u001b[39mconvert()\n",
      "File \u001b[0;32m~/Dropbox/My Mac (Ye’s MacBook Pro)/Desktop/Ryan_test_data/HEDM/HEDMFileConverter.py:15\u001b[0m, in \u001b[0;36mFileConverter.__init__\u001b[0;34m(self, **kwargs)\u001b[0m\n\u001b[1;32m     13\u001b[0m \u001b[39mself\u001b[39m\u001b[39m.\u001b[39minput_file \u001b[39m=\u001b[39m \u001b[39mself\u001b[39m\u001b[39m.\u001b[39mparams\u001b[39m.\u001b[39mget(\u001b[39m'\u001b[39m\u001b[39minput_file\u001b[39m\u001b[39m'\u001b[39m)\n\u001b[1;32m     14\u001b[0m \u001b[39mself\u001b[39m\u001b[39m.\u001b[39moutput_file \u001b[39m=\u001b[39m \u001b[39mself\u001b[39m\u001b[39m.\u001b[39mparams\u001b[39m.\u001b[39mget(\u001b[39m'\u001b[39m\u001b[39moutput_file\u001b[39m\u001b[39m'\u001b[39m)\n\u001b[0;32m---> 15\u001b[0m \u001b[39mself\u001b[39m\u001b[39m.\u001b[39minput_format \u001b[39m=\u001b[39m \u001b[39mself\u001b[39;49m\u001b[39m.\u001b[39;49m_get_file_format()\n\u001b[1;32m     16\u001b[0m \u001b[39mself\u001b[39m\u001b[39m.\u001b[39minput_folder \u001b[39m=\u001b[39m \u001b[39mself\u001b[39m\u001b[39m.\u001b[39m_get_input_folder()\n\u001b[1;32m     17\u001b[0m \u001b[39mself\u001b[39m\u001b[39m.\u001b[39mstart_num \u001b[39m=\u001b[39m \u001b[39mself\u001b[39m\u001b[39m.\u001b[39mparams\u001b[39m.\u001b[39mget(\u001b[39m'\u001b[39m\u001b[39mstart_num\u001b[39m\u001b[39m'\u001b[39m, \u001b[39mNone\u001b[39;00m)\n",
      "File \u001b[0;32m~/Dropbox/My Mac (Ye’s MacBook Pro)/Desktop/Ryan_test_data/HEDM/HEDMFileConverter.py:60\u001b[0m, in \u001b[0;36mFileConverter._get_file_format\u001b[0;34m(self)\u001b[0m\n\u001b[1;32m     59\u001b[0m \u001b[39mdef\u001b[39;00m \u001b[39m_get_file_format\u001b[39m(\u001b[39mself\u001b[39m):\n\u001b[0;32m---> 60\u001b[0m     _, ext \u001b[39m=\u001b[39m os\u001b[39m.\u001b[39;49mpath\u001b[39m.\u001b[39;49msplitext(\u001b[39mself\u001b[39;49m\u001b[39m.\u001b[39;49minput_file)\n\u001b[1;32m     61\u001b[0m     \u001b[39mreturn\u001b[39;00m ext\u001b[39m.\u001b[39mlower()\n",
      "File \u001b[0;32m~/opt/anaconda3/envs/hexrd_3_10/lib/python3.10/posixpath.py:118\u001b[0m, in \u001b[0;36msplitext\u001b[0;34m(p)\u001b[0m\n\u001b[1;32m    117\u001b[0m \u001b[39mdef\u001b[39;00m \u001b[39msplitext\u001b[39m(p):\n\u001b[0;32m--> 118\u001b[0m     p \u001b[39m=\u001b[39m os\u001b[39m.\u001b[39;49mfspath(p)\n\u001b[1;32m    119\u001b[0m     \u001b[39mif\u001b[39;00m \u001b[39misinstance\u001b[39m(p, \u001b[39mbytes\u001b[39m):\n\u001b[1;32m    120\u001b[0m         sep \u001b[39m=\u001b[39m \u001b[39mb\u001b[39m\u001b[39m'\u001b[39m\u001b[39m/\u001b[39m\u001b[39m'\u001b[39m\n",
      "\u001b[0;31mTypeError\u001b[0m: expected str, bytes or os.PathLike object, not NoneType"
     ]
    }
   ],
   "source": [
    "from HEDMFileConverter import ToIlastikConverter, HDF5Slicer, run_conversion, HDF5ToTiffConverter\n",
    "import os\n",
    "\n",
    "tiff_params = {\n",
    "    'output_tiff_folder': '/Users/yetian/Desktop/Ryan_test_data/APS_2023Feb/nf_test/nugget1_nf_test_tif',\n",
    "    'input_proc_file': '/Users/yetian/Desktop/Ryan_test_data/APS_2023Feb/nf_test/nugget1_nf_det1_layer0_50bg180nf_slice.h5',\n",
    "    'input_tiff_folder': '/Users/yetian/Desktop/Ryan_test_data/APS_2023Feb/nf_test/nugget1_nf_int_before',\n",
    "    'output_offset': 180,\n",
    "    'prefix': 'image',\n",
    "    'start_num': 0,\n",
    "    'end_num': 179,\n",
    "}\n",
    "\n",
    "os.makedirs(tiff_params['output_tiff_folder'], exist_ok=True)\n",
    "run_conversion(HDF5ToTiffConverter, **tiff_params)\n"
   ]
  },
  {
   "cell_type": "code",
   "execution_count": null,
   "metadata": {},
   "outputs": [],
   "source": []
  }
 ],
 "metadata": {
  "kernelspec": {
   "display_name": "hexrd_3_10",
   "language": "python",
   "name": "python3"
  },
  "language_info": {
   "codemirror_mode": {
    "name": "ipython",
    "version": 3
   },
   "file_extension": ".py",
   "mimetype": "text/x-python",
   "name": "python",
   "nbconvert_exporter": "python",
   "pygments_lexer": "ipython3",
   "version": "3.10.6"
  },
  "orig_nbformat": 4
 },
 "nbformat": 4,
 "nbformat_minor": 2
}
