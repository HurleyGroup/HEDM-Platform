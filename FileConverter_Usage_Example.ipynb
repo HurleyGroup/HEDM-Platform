{
 "cells": [
  {
   "cell_type": "code",
   "execution_count": 33,
   "metadata": {},
   "outputs": [
    {
     "name": "stdout",
     "output_type": "stream",
     "text": [
      "/Users/yetian/Dropbox/My Mac (Ye’s MacBook Pro)/Desktop/Ryan_test_data/HEDM\n"
     ]
    }
   ],
   "source": [
    "cd /Users/yetian/Dropbox/My Mac (Ye’s MacBook Pro)/Desktop/Ryan_test_data/HEDM"
   ]
  },
  {
   "cell_type": "code",
   "execution_count": 37,
   "metadata": {},
   "outputs": [
    {
     "name": "stdout",
     "output_type": "stream",
     "text": [
      "Converting to ilastik format...\n",
      "Converting from .tif format to .h5...\n",
      "Number of images in the dataset: 180\n",
      "Applying background subtraction...\n",
      "Slicing HDF5 file...\n"
     ]
    }
   ],
   "source": [
    "from HEDMFileConverter import ToIlastikConverter, HDF5Slicer, run_conversion\n",
    "\n",
    "input_file = '/Users/yetian/Dropbox/My Mac (Ye’s MacBook Pro)/Desktop/Ryan_test_data/APS_2023Feb/nf_test/nugget1_nf_int_before/nugget1_nf_int4_000000.tif'\n",
    "output_file = '/Users/yetian/Desktop/Ryan_test_data/APS_2023Feb/nf_test/nugget1_nf_det1.h5'\n",
    "slice_output_file = '/Users/yetian/Desktop/Ryan_test_data/APS_2023Feb/nf_test/nugget1_nf_det1_50bg180nf_slice.h5'\n",
    "slice_images = 3\n",
    "empty_images = 0\n",
    "start_num = 180\n",
    "end_num = 359\n",
    "bgsub_h5_file = '/Users/yetian/Desktop/Ryan_test_data/APS_2023Feb/nf_test/nugget1_nf_det1_50bg.h5'\n",
    "num_images = 180 # number of frames in total in hdf5 file\n",
    "omega = 1 # omega rotation angle in degree\n",
    "bg_pct = 50 # background to subtract in percentile\n",
    "bg_nf = 180 # number of frames to use to generate dark field image   \n",
    "bgsub = True\n",
    "\n",
    "params = {\n",
    "    'input_file': input_file,\n",
    "    'output_file': output_file,\n",
    "    'empty_images': empty_images, \n",
    "    'start_num': start_num,\n",
    "    'end_num': end_num,\n",
    "    'bgsub_h5_file': bgsub_h5_file,\n",
    "    'num_images': num_images,\n",
    "    'omega': omega,\n",
    "    'bg_pct': bg_pct,\n",
    "    'bg_nf': bg_nf,\n",
    "    'bgsub': bgsub,\n",
    "    'slice_input_file': bgsub_h5_file if bgsub else output_file,\n",
    "    'slice_output_file': slice_output_file,\n",
    "    'slice_images': slice_images\n",
    "}\n",
    "\n",
    "run_conversion(ToIlastikConverter, **params)\n",
    "run_conversion(HDF5Slicer, **params) "
   ]
  },
  {
   "cell_type": "code",
   "execution_count": null,
   "metadata": {},
   "outputs": [],
   "source": []
  }
 ],
 "metadata": {
  "kernelspec": {
   "display_name": "hexrd_3_10",
   "language": "python",
   "name": "python3"
  },
  "language_info": {
   "codemirror_mode": {
    "name": "ipython",
    "version": 3
   },
   "file_extension": ".py",
   "mimetype": "text/x-python",
   "name": "python",
   "nbconvert_exporter": "python",
   "pygments_lexer": "ipython3",
   "version": "3.10.6"
  },
  "orig_nbformat": 4
 },
 "nbformat": 4,
 "nbformat_minor": 2
}
