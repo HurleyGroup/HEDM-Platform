{
 "cells": [
  {
   "cell_type": "code",
   "execution_count": 71,
   "metadata": {},
   "outputs": [
    {
     "name": "stdout",
     "output_type": "stream",
     "text": [
      "/Users/yetian/Dropbox/My Mac (Ye’s MacBook Pro)/Desktop/Ryan_test_data/HEDM\n"
     ]
    }
   ],
   "source": [
    "cd /Users/yetian/Dropbox/My Mac (Ye’s MacBook Pro)/Desktop/Ryan_test_data/HEDM"
   ]
  },
  {
   "cell_type": "code",
   "execution_count": 72,
   "metadata": {},
   "outputs": [
    {
     "name": "stdout",
     "output_type": "stream",
     "text": [
      "Converting to ilastik format...\n",
      "Input file is already in .h5 format. Copying to output file with a new name...\n"
     ]
    }
   ],
   "source": [
    "from HEDMFileConverter import ToIlastikConverter, run_conversion\n",
    "\n",
    "# Example usage, for .tif/.tiff files just choose a random (number) file with the right prefix you want to process\n",
    "input_file = '/Users/yetian/Dropbox/My Mac (Ye’s MacBook Pro)/Desktop/Ryan_test_data/APS_2023Feb/nf_test/class_test_1.h5'\n",
    "output_file = '/Users/yetian/Desktop/Ryan_test_data/APS_2023Feb/nf_test/class_test_1_1.h5'\n",
    "empty_images = 2\n",
    "start_num = 0\n",
    "end_num = 10\n",
    "bgsub_h5_file = '/Users/yetian/Desktop/Ryan_test_data/APS_2023Feb/nf_test/class_bgsub_50pct_test_1.h5'\n",
    "num_images = 80 # number of frames in total in hdf5 file\n",
    "omega = 0.25 # omega rotation angle in degree\n",
    "bg_pct = 75 # background to subtract in percentile\n",
    "bg_nf = 30 # number of frames to use to generate dark field image   \n",
    "bgsub = False\n",
    "\n",
    "params = {\n",
    "    'input_file': input_file,\n",
    "    'output_file': output_file,\n",
    "    'empty_images': empty_images, \n",
    "    'start_num': start_num,\n",
    "    'end_num': end_num,\n",
    "    'bgsub_h5_file': bgsub_h5_file,\n",
    "    'num_images': num_images,\n",
    "    'omega': omega,\n",
    "    'bg_pct': bg_pct,\n",
    "    'bg_nf': bg_nf,\n",
    "    'bgsub': bgsub\n",
    "}\n",
    "\n",
    "run_conversion(ToIlastikConverter, **params)"
   ]
  },
  {
   "cell_type": "code",
   "execution_count": null,
   "metadata": {},
   "outputs": [],
   "source": []
  }
 ],
 "metadata": {
  "kernelspec": {
   "display_name": "hexrd_3_10",
   "language": "python",
   "name": "python3"
  },
  "language_info": {
   "codemirror_mode": {
    "name": "ipython",
    "version": 3
   },
   "file_extension": ".py",
   "mimetype": "text/x-python",
   "name": "python",
   "nbconvert_exporter": "python",
   "pygments_lexer": "ipython3",
   "version": "3.10.6"
  },
  "orig_nbformat": 4
 },
 "nbformat": 4,
 "nbformat_minor": 2
}
